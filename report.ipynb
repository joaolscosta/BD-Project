{
 "cells": [
  {
   "attachments": {},
   "cell_type": "markdown",
   "id": "7721816f-456c-41e6-85e4-3a346bf81b63",
   "metadata": {},
   "source": [
    "# Projeto de Bases de Dados - Parte 2\n",
    "\n",
    "### Docente Responsável\n",
    "\n",
    "Prof. André Patrício\n",
    "Prof. Jorge Oliveira\n",
    "\n",
    "### Grupo 4\n",
    "<dl>\n",
    "    <dt>HH horas (33.3%)</dt>\n",
    "    <dd>ist102447 Guilherme Belchior</dd>\n",
    "    <dt>HH horas (33.3%)</dt>\n",
    "    <dd>ist103095 Daniel Nunes</dd>\n",
    "    <dt>HH horas (33.3%)</dt>\n",
    "    <dd>ist102078 João Costa</dd>\n",
    "<dl>"
   ]
  },
  {
   "attachments": {},
   "cell_type": "markdown",
   "id": "1c5deb6e-396e-401f-9b09-af4cd09491a9",
   "metadata": {
    "tags": []
   },
   "source": [
    "# Empresa de comércio online"
   ]
  },
  {
   "attachments": {},
   "cell_type": "markdown",
   "id": "9772880f-58f0-46c8-9670-737390210bb4",
   "metadata": {
    "tags": []
   },
   "source": [
    "## 1 Conversão E-A para Modelo Relacional\n",
    "\n",
    "Recorde a notação para o Modelo Relacional exposta nas aulas teóricas como se segue:\n",
    "\n",
    "- relacaoA (<u>atributo1</u>, … , atributoN)\n",
    "    - atributoX, … , atributoZ: FK (RelacaoDestino)\n",
    "    - unique(atributoA, … , AtributoC)\n",
    "- relacaoB (<u>atributo1</u>, … , atributoN)\n",
    "    - atributoX, … , atributoZ: FK (RelacaoDestino)\n",
    "    - unique(atributoA, … , AtributoC)\n",
    "\n",
    "1. As relações são expressas por um nome seguido dos atributos entre parêntesis;\n",
    "    - As chave primárias são expressas sublinhando os atributos que a compõem;\n",
    "    - As chaves estrangeiras para outras relações são expressas através da lista de atributos que a compõem, seguida de “: FK(RelacaoDestino)”. A ordem dos atributos que compõem a FK deve corresponder à ordem dos atributos da chave na relação destino;\n",
    "    - As chaves candidatas são expressas através da expressão “unique”, seguida da lista de atributos que a compõem entre parêntesis;\n",
    "    - As restrições de integridade ao Modelo Relacional são descritas em termos dos conceitos deste modelo."
   ]
  },
  {
   "attachments": {},
   "cell_type": "markdown",
   "id": "664e4242-9646-4d1a-9dac-4d8d4efd4ad6",
   "metadata": {},
   "source": [
    "### 1.1 Modelo Relacional com Restrições de Integridade\n",
    "\n",
    "1. Desenvolva um Modelo Relacional correspondente ao modelo Entidade-Associação;\n",
    "2. Complemente a seu Modelo Relacional com um conjunto de Restrições de Integridade que represente o modelo E-A apresentado com a maior fidelidade."
   ]
  },
  {
   "attachments": {},
   "cell_type": "markdown",
   "id": "28f1998a-b5d6-41b5-851c-4318bb556cb8",
   "metadata": {},
   "source": [
    "- relacaoA (<u>atributo1</u>, … , atributoN)\n",
    "    - atributoX, … , atributoZ: FK (RelacaoDestino)\n",
    "    - unique(atributoA, … , AtributoC)\n",
    "- relacaoB (<u>atributo1</u>, … , atributoN)\n",
    "    - atributoX, … , atributoZ: FK (RelacaoDestino)\n",
    "    - unique(atributoA, … , AtributoC)\n",
    "- relacaoC (<u>atributo1</u>, … , atributoN)\n",
    "    - atributoX, … , atributoZ: FK (RelacaoDestino)\n",
    "    - unique(atributoA, … , AtributoC)\n",
    "- relacaoD (<u>atributo1</u>, … , atributoN)\n",
    "    - atributoX, … , atributoZ: FK (RelacaoDestino)\n",
    "    - unique(atributoA, … , AtributoC)\n",
    "- relacaoE (<u>atributo1</u>, … , atributoN)\n",
    "    - atributoX, … , atributoZ: FK (RelacaoDestino)\n",
    "    - unique(atributoA, … , AtributoC)"
   ]
  },
  {
   "attachments": {},
   "cell_type": "markdown",
   "id": "f524e1ac-1589-4a49-a709-ad91c6421260",
   "metadata": {},
   "source": [
    "### 1.2 Restrições de Integridade não passíveis de conversão\n",
    "\n",
    "Identifique todas as Restrições de Integridade do modelo Entidade-Associação apresentado que não são passíveis de conversão para o modelo relacional."
   ]
  },
  {
   "attachments": {},
   "cell_type": "markdown",
   "id": "a5cf04b8-494d-4f83-9a36-bdfb4653b2b1",
   "metadata": {},
   "source": []
  },
  {
   "attachments": {},
   "cell_type": "markdown",
   "id": "642bc461-91b7-4960-9dd8-12455cf2ba61",
   "metadata": {},
   "source": [
    "## 2 Algebra Relacional\n",
    "\n",
    "Recorde a notação exposta nas aulas teóricas como se segue:\n",
    "\n",
    "$\\Pi_{atributo1} \\big( \\sigma_{atributo1=atributo2} (relacaoA \\bowtie relacaoB) \\big)$\n",
    "\n",
    "#### Simbolos\n",
    "- $\\cup$ union \t\t\t\n",
    "- $\\cap$ intersection \t\t\n",
    "- $-$ difference \t\t\n",
    "- $\\times$ cartesian product \n",
    "- $\\div$ division \t\t\t\n",
    "- $\\rho$ rename \t\t\t\n",
    "- $\\bowtie$ natural join \t\t\n",
    "- $\\wedge$ Logical AND \t\n",
    "- $\\vee$ Logical OR \t\n",
    "- $\\neg$ Logical NOT \t\n",
    "\n",
    "Considerando o modelo relacional desenvolvido, apresente as expressões algébricas correspondentes a cada uma das seguintes interrogações:"
   ]
  },
  {
   "attachments": {},
   "cell_type": "markdown",
   "id": "8246494b-f88b-4849-8515-67001c796cf8",
   "metadata": {
    "tags": []
   },
   "source": [
    "1. Liste o nome de todos os clientes que fizeram encomendas contendo produtos de preço superior a €50 no ano de 2023;"
   ]
  },
  {
   "attachments": {},
   "cell_type": "markdown",
   "id": "fb153d59-2d55-484f-bed9-0c60e02b27ae",
   "metadata": {},
   "source": [
    "$\\Pi_{c.name} (Customer \\bowtie_{c.cust\\_no=o.cust\\_no} ((\\sigma_{date>\"31-12-2022\" \\wedge date<\"01-01-2024} (Order)) \\bowtie_{o.order\\_no=c.order\\_no} (Contains \\bowtie_{c.sku=p.sku} (\\sigma_{price>50} (product)))))$"
   ]
  },
  {
   "attachments": {},
   "cell_type": "markdown",
   "id": "7fb1b56e-8173-4c29-8155-b487003dc522",
   "metadata": {},
   "source": [
    "2. Liste o nome de todos os empregados que trabalham em armazéns e não em escritórios e processaram encomendas em Janeiro de 2023;"
   ]
  },
  {
   "attachments": {},
   "cell_type": "markdown",
   "id": "01c30a54-83d4-43c1-a7b2-871cef8552ec",
   "metadata": {},
   "source": [
    "$ Emp ← Employee \\bowtie_{e.ssn=p.ssn} (process \\bowtie_{p.order\\_no=o.order\\_no} (\\sigma_{date>\"31-12-2022\" \\wedge date<\"01-02-2023} (Order))) $\n",
    "\n",
    "$ Storehouse ← \\rho_{Storehouse}(Warehouse) $\n",
    "\n",
    "$ a ← \\Pi_{name} (Employee \\bowtie_{e.ssn=w.ssn} (\\Pi_{ssn} (works) \\bowtie_{w.adress=s.adress} (Storehouse)))$\n",
    "\n",
    "$ b ← \\Pi_{name} (Employee \\bowtie_{e.ssn=w.ssn} (\\Pi_{ssn} (works) \\bowtie_{w.adress=o.adress} (Office)))$\n",
    "\n",
    "$Ewh = a - b$\n",
    "\n",
    "$ \\Pi_{name} (Emp \\cap Ewh) $"
   ]
  },
  {
   "attachments": {},
   "cell_type": "markdown",
   "id": "28bddbbb-11cc-4588-9d0b-61e04e09d7ec",
   "metadata": {},
   "source": [
    "3. Indique o nome do produto mais vendido;"
   ]
  },
  {
   "attachments": {},
   "cell_type": "markdown",
   "id": "e0411d6f-5cc9-4d4a-a70f-d3a3957b1111",
   "metadata": {},
   "source": [
    "$ \\Pi_{name} (Product \\bowtie_{p.sku=c.sku} (_{cs.qty} G _{Max(cs.qty)} (contains \\bowtie_{cs.order\\_no=s.order\\_no} (Sale)))) $"
   ]
  },
  {
   "attachments": {},
   "cell_type": "markdown",
   "id": "1efe4041-a42e-44d8-830e-d2692fab7793",
   "metadata": {},
   "source": [
    "4. Indique o valor total de cada venda realizada."
   ]
  },
  {
   "attachments": {},
   "cell_type": "markdown",
   "id": "31ba6844-b37c-40df-9745-7db2f3254fda",
   "metadata": {},
   "source": [
    "$ _{order\\_no} G _{Sum(qty*price)} (\\Pi_{order\\_no,qty*price} (Sale) \\bowtie_{c.order\\_no=g.order\\_no} (contains) \\bowtie_{c.sku=p.sku} (Product)) $"
   ]
  },
  {
   "attachments": {},
   "cell_type": "markdown",
   "id": "79967746-e9fd-4e5d-955e-4ae33b815dbf",
   "metadata": {},
   "source": [
    "## 3 Tradução do Modelo Relacional para SQL"
   ]
  },
  {
   "attachments": {},
   "cell_type": "markdown",
   "id": "ad573c6d-c9cc-401b-ab2b-8f86923be802",
   "metadata": {
    "tags": []
   },
   "source": [
    "### 3.1 Esquema Relacional (schema.sql)\n",
    "\n",
    "Crie uma base de dados SQL correspondente ao esquema Relacional desenvolvido no ponto anterior.\n",
    "Utilizando a linguagem SQL (DDL), apresente as instruções para criar o esquema de bases de dados correspondente ao modelo relacional desenvolvido. Deve certificar-se de que os tipos de dados e tamanhos de campo selecionados sejam os mais apropriados. As restrições aplicáveis a cada campo, linha e tabela também devem ser especificadas recorrendo às instruções NOT NULL, CHECK, PRIMARY KEY, UNIQUE e FOREIGN KEY conforme seja apropriado.\n",
    "\n",
    "\n",
    "Nota: Apresente todas as restrições existentes no modelo Relacional que não podem ser capturadas (implementadas) no esquema SQL, escrevendo-as como comentários na tabela respectiva.\n"
   ]
  },
  {
   "cell_type": "code",
   "execution_count": null,
   "id": "195436d2-5bb5-4ab8-879b-b7ca19fb8d8a",
   "metadata": {
    "tags": []
   },
   "outputs": [],
   "source": [
    "%load_ext sql\n",
    "%sql postgresql://db:db@postgres/db"
   ]
  },
  {
   "cell_type": "code",
   "execution_count": 9,
   "id": "7dad4bdb-454b-4e0a-af55-93580ab2b56c",
   "metadata": {
    "tags": []
   },
   "outputs": [
    {
     "name": "stderr",
     "output_type": "stream",
     "text": [
      "UsageError: Cell magic `%%sql` not found.\n"
     ]
    }
   ],
   "source": [
    "%%sql\n",
    "\n",
    "-- schema.sql\n",
    "\n",
    "DROP TABLE IF EXISTS Customer CASCADE;\n",
    "DROP TABLE IF EXISTS \"order\" CASCADE;\n",
    "DROP TABLE IF EXISTS Sale CASCADE;\n",
    "DROP TABLE IF EXISTS pay CASCADE;\n",
    "DROP TABLE IF EXISTS Employee CASCADE;\n",
    "DROP TABLE IF EXISTS process CASCADE;\n",
    "DROP TABLE IF EXISTS Department CASCADE;\n",
    "DROP TABLE IF EXISTS Workplace CASCADE;\n",
    "DROP TABLE IF EXISTS Office CASCADE;\n",
    "DROP TABLE IF EXISTS Warehouse CASCADE;\n",
    "DROP TABLE IF EXISTS delivery CASCADE;\n",
    "DROP TABLE IF EXISTS works CASCADE;\n",
    "DROP TABLE IF EXISTS Product CASCADE;\n",
    "DROP TABLE IF EXISTS EAN_Product CASCADE;\n",
    "DROP TABLE IF EXISTS contains CASCADE;\n",
    "DROP TABLE IF EXISTS supply_contract CASCADE;\n",
    "DROP TABLE IF EXISTS supplier CASCADE;\n",
    "\n",
    "\n",
    "\n",
    "CREATE TABLE Customer (\n",
    "    cust_no SERIAL,\n",
    "    name VARCHAR(80) NOT NULL,\n",
    "    email VARCHAR(80) NOT NULL UNIQUE,\n",
    "    phone VARCHAR(40) NOT NULL,\n",
    "    address VARCHAR(255),\n",
    "    PRIMARY KEY(cust_no)\n",
    ");\n",
    "\n",
    "CREATE TABLE \"order\" (\n",
    "   order_no SERIAL,\n",
    "   date DATE NOT NULL,\n",
    "   cust_no INTEGER NOT NULL,\n",
    "   PRIMARY KEY(order_no),\n",
    "   FOREIGN KEY(cust_no) REFERENCES Customer(cust_no)\n",
    "); -- For each order, there must be an entry in the contains table with the same order_no\n",
    "\n",
    "CREATE TABLE Sale (\n",
    "  order_no INTEGER,\n",
    "  PRIMARY KEY(order_no),\n",
    "  FOREIGN KEY(order_no) REFERENCES \"order\"(order_no) ON DELETE CASCADE\n",
    ");\n",
    "\n",
    "CREATE TABLE pay(\n",
    "  order_no INTEGER,\n",
    "  cust_no INTEGER NOT NULL,\n",
    "  PRIMARY KEY(order_no),\n",
    "  FOREIGN KEY(order_no) REFERENCES \"order\"(order_no),\n",
    "  FOREIGN KEY(cust_no) REFERENCES Customer(cust_no)\n",
    "); -- Customers can only pay for orders they have made\n",
    "\n",
    "CREATE TABLE Employee(\n",
    "  ssn INTEGER,\n",
    "  TIN INTEGER NOT NULL UNIQUE,\n",
    "  bdate DATE NOT NULL,\n",
    "  name VARCHAR(80) NOT NULL,\n",
    "  PRIMARY KEY (ssn)\n",
    "); -- For each employee, there must be an entry in the works table with the same ssn\n",
    "\n",
    "CREATE TABLE process(\n",
    "  ssn INTEGER,\n",
    "  order_no INTEGER,\n",
    "  PRIMARY KEY(ssn, order_no),\n",
    "  FOREIGN KEY(ssn) REFERENCES Employee(ssn),\n",
    "  FOREIGN KEY(order_no) REFERENCES \"order\"(order_no)\n",
    "); \n",
    "\n",
    "CREATE TABLE Department(\n",
    "  name VARCHAR(50),\n",
    "  PRIMARY KEY(name)\n",
    "); \n",
    "\n",
    "CREATE TABLE Workplace(\n",
    "  address VARCHAR(100),\n",
    "  lat VARCHAR(20) NOT NULL,\n",
    "  long VARCHAR(20) NOT NULL,\n",
    "  PRIMARY KEY(address),\n",
    "  UNIQUE(lat, long)\n",
    ");\n",
    "\n",
    "Create TABLE Office(\n",
    "  address VARCHAR(100),\n",
    "  PRIMARY KEY(address),\n",
    "  FOREIGN KEY(address) REFERENCES Workplace(address) ON DELETE CASCADE\n",
    "); \n",
    "\n",
    "CREATE TABLE Warehouse(\n",
    "  address VARCHAR(100),\n",
    "  PRIMARY KEY(address),\n",
    "  FOREIGN KEY(address) REFERENCES Workplace(address) ON DELETE CASCADE\n",
    ");\n",
    "\n",
    "CREATE TABLE works(\n",
    "  ssn INTEGER,\n",
    "  name VARCHAR(50),\n",
    "  address VARCHAR(100),\n",
    "  PRIMARY KEY(ssn, name, address),\n",
    "  FOREIGN KEY(ssn) REFERENCES Employee(ssn),\n",
    "  FOREIGN KEY(name) REFERENCES Department(name), \n",
    "  FOREIGN KEY(address) REFERENCES Workplace(address)\n",
    "); \n",
    "\n",
    "CREATE TABLE Product(\n",
    "  sku SERIAL,\n",
    "  name VARCHAR(100) NOT NULL,\n",
    "  description VARCHAR(255) NOT NULL,\n",
    "  price DECIMAL(10,2) NOT NULL,\n",
    "  PRIMARY KEY(sku)\n",
    "); -- For each product, there must be an entry in the supply_contract table with the same sku\n",
    "\n",
    "CREATE TABLE EAN_Product(\n",
    "  sku INTEGER,\n",
    "  ean VARCHAR(15) NOT NULL UNIQUE,\n",
    "  PRIMARY KEY(sku),\n",
    "  FOREIGN KEY(sku) REFERENCES Product(sku) ON DELETE CASCADE\n",
    "); \n",
    "\n",
    "CREATE TABLE contains(\n",
    "  sku INTEGER,\n",
    "  order_no INTEGER,\n",
    "  quantity INTEGER NOT NULL,\n",
    "  PRIMARY KEY(sku, order_no),\n",
    "  FOREIGN KEY(sku) REFERENCES Product(sku),\n",
    "  FOREIGN KEY(order_no) REFERENCES \"order\"(order_no)\n",
    ");\n",
    "\n",
    "CREATE TABLE Supplier(\n",
    "  TIN INTEGER,\n",
    "  name VARCHAR(80) NOT NULL,\n",
    "  address VARCHAR(100) NOT NULL,\n",
    "  PRIMARY KEY(TIN)\n",
    "); -- For each supplier, there must be an entry in the supply_contract table with the same TIN\n",
    "\n",
    "CREATE TABLE supply_contract(\n",
    "  TIN INTEGER,\n",
    "  sku INTEGER NOT NULL,\n",
    "  PRIMARY KEY(TIN),\n",
    "  FOREIGN KEY(TIN) REFERENCES Supplier(TIN),\n",
    "  FOREIGN KEY(sku) REFERENCES Product(sku)\n",
    "); \n",
    "\n",
    "CREATE TABLE delivery(\n",
    "  address VARCHAR(100),\n",
    "  TIN INTEGER,\n",
    "  PRIMARY KEY(address, TIN),  \n",
    "  FOREIGN KEY(address) REFERENCES Workplace(address),\n",
    "  FOREIGN KEY(TIN) REFERENCES supply_contract(TIN)\n",
    ");\n"
   ]
  },
  {
   "attachments": {},
   "cell_type": "markdown",
   "id": "9bfabefe-cc1f-4544-8024-39bcdd065bba",
   "metadata": {},
   "source": [
    "### 3.2 Carregamento da Base de Dados\n",
    "\n",
    "Crie um script SQL (DML) com todas as instruções INSERT necessárias para criar alguns dados de teste sintéticos para facilitar a validação dos resultados esperados das consultas (lembre-se de que cada tabela deve conter pelo menos uma linha e que todas as consulta têm de retornar um resultado não vazio)."
   ]
  },
  {
   "cell_type": "code",
   "execution_count": 4,
   "id": "689fbf59-980b-4c09-8b8e-7beee128b324",
   "metadata": {
    "tags": []
   },
   "outputs": [
    {
     "name": "stderr",
     "output_type": "stream",
     "text": [
      "UsageError: Cell magic `%%sql` not found.\n"
     ]
    }
   ],
   "source": [
    "%%sql\n",
    "-- populate.sql\n",
    "\n",
    "insert into Customer (name, email, phone, address) VALUES ('Belchior', 'belchiorlindo@gmail.com', '912345678', 'Rua do Belchior');\n",
    "insert into Customer (name, email, phone, address) VALUES ('Nunes', 'danielnunes@gmail.com', '939393939', 'Rua do Nunes');\n",
    "insert into Customer (name, email, phone, address) VALUES ('Costa', 'joaolscosta@gmail.com', '947854684', 'Rua das flores');\n",
    "\n",
    "insert into \"order\" (date, cust_no) VALUES ('2017-01-01', (select cust_no from Customer where name = 'Belchior'));\n",
    "insert into \"order\" (date, cust_no) VALUES ('2018-01-01', (select cust_no from Customer where name = 'Nunes'));\n",
    "insert into \"order\" (date, cust_no) VALUES ('2019-01-01', (select cust_no from Customer where name = 'Costa'));\n",
    "insert into \"order\" (date, cust_no) VALUES ('2014-01-01', (select cust_no from Customer where name = 'Costa'));\n",
    "insert into \"order\" (date, cust_no) VALUES ('2023-01-02', (select cust_no from Customer where name = 'Costa'));\n",
    "insert into \"order\" (date, cust_no) VALUES ('2023-02-02', (select cust_no from Customer where name = 'Nunes'));\n",
    "insert into \"order\" (date, cust_no) VALUES ('2023-01-03', (select cust_no from Customer where name = 'Nunes'));\n",
    "\n",
    "insert into Sale (order_no) VALUES ((select order_no from \"order\" where date = '2017-01-01'));\n",
    "insert into Sale (order_no) VALUES ((select order_no from \"order\" where date = '2018-01-01'));\n",
    "\n",
    "insert into pay (order_no, cust_no) VALUES ((select order_no from \"order\" where date = '2017-01-01'), (select cust_no from Customer where name = 'Belchior'));\n",
    "insert into pay (order_no, cust_no) VALUES ((select order_no from \"order\" where date = '2018-01-01'), (select cust_no from Customer where name = 'Nunes'));\n",
    "\n",
    "insert into Employee (ssn, TIN, bdate, name) VALUES ('546654654', '123123123', '2002-04-10', 'Pedrinho');\n",
    "insert into Employee (ssn, TIN, bdate, name) VALUES ('546654655', '123123124', '2002-02-14', 'Gui');\n",
    "insert into Employee (ssn, TIN, bdate, name) VALUES ('546654656', '123123125', '2002-01-01', 'Luana');\n",
    "\n",
    "insert into process (ssn, order_no) VALUES ((select ssn from Employee where name = 'Pedrinho'), (select order_no from \"order\" where date = '2017-01-01'));\n",
    "insert into process (ssn, order_no) VALUES ((select ssn from Employee where name = 'Luana'), (select order_no from \"order\" where date = '2023-01-02'));\n",
    "insert into process (ssn, order_no) VALUES ((select ssn from Employee where name = 'Gui'), (select order_no from \"order\" where date = '2019-01-01'));\n",
    "insert into process (ssn, order_no) VALUES ((select ssn from Employee where name = 'Gui'), (select order_no from \"order\" where date = '2023-01-03'));\n",
    "insert into process (ssn, order_no) VALUES ((select ssn from Employee where name = 'Pedrinho'), (select order_no from \"order\" where date = '2014-01-01'));\n",
    "\n",
    "insert into Department (name) VALUES ('Sales');\n",
    "insert into Department (name) VALUES ('Marketing');\n",
    "insert into Department (name) VALUES ('Production');\n",
    "\n",
    "insert into Workplace (address, lat, long) VALUES ('Rua das flores', '123', '456');\n",
    "insert into Workplace (address, lat, long) VALUES ('Rua da Maria', '789', '1010');\n",
    "insert into Workplace (address, lat, long) VALUES ('Rua da Lua', '789', '1012');\n",
    "insert into Workplace (address, lat, long) VALUES ('Rua do Sol', '789', '1011');\n",
    "\n",
    "insert into Office (address) VALUES ('Rua da Lua');\n",
    "insert into Office (address) VALUES ('Rua do Sol');\n",
    "\n",
    "insert into Warehouse (address) VALUES ('Rua das flores');\n",
    "insert into Warehouse (address) VALUES ('Rua da Maria');\n",
    "\n",
    "\n",
    "insert into works (ssn, name, address) VALUES ((select ssn from Employee where name = 'Pedrinho'), (select name from Department where name = 'Sales'), (select address from Office where address = 'Rua da Lua'));\n",
    "insert into works (ssn, name, address) VALUES ((select ssn from Employee where name = 'Luana'), (select name from Department where name = 'Marketing'), (select address from Warehouse where address = 'Rua das flores'));\n",
    "insert into works (ssn, name, address) VALUES ((select ssn from Employee where name = 'Gui'), (select name from Department where name = 'Production'), (select address from Warehouse where address = 'Rua das flores'));\n",
    "insert into works (ssn, name, address) VALUES ((select ssn from Employee where name = 'Gui'), (select name from Department where name = 'Production'), (select address from Office where address = 'Rua do Sol'));\n",
    "\n",
    "insert into Product (name, description, price) VALUES ('Gaming Chair', 'Chair made with love and kindness', 5.35);\n",
    "insert into Product (name, description, price) VALUES ('Cake', 'Cake made by our amazing chef Luana', 10.35);\n",
    "insert into Product (name, description, price) VALUES ('TV', 'LG TV 4K', 500.35);\n",
    "insert into Product (name, description, price) VALUES ('Table', 'Table made with paus and cola', 50.35);\n",
    "\n",
    "insert into EAN_Product (sku, ean) VALUES ((select sku from Product where name = 'Gaming Chair'), '1234567891234');\n",
    "insert into EAN_Product (sku, ean) VALUES ((select sku from Product where name = 'Cake'), '1234567891235');\n",
    "insert into EAN_Product (sku, ean) VALUES ((select sku from Product where name = 'TV'), '1234567891236');\n",
    "\n",
    "insert into contains (sku, order_no, quantity) VALUES ((select sku from Product where name = 'Gaming Chair'), (select order_no from \"order\" where date = '2017-01-01'), 2);\n",
    "insert into contains (sku, order_no, quantity) VALUES ((select sku from Product where name = 'Cake'), (select order_no from \"order\" where date = '2018-01-01'), 10);\n",
    "insert into contains (sku, order_no, quantity) VALUES ((select sku from Product where name = 'TV'), (select order_no from \"order\" where date = '2019-01-01'), 3);\n",
    "insert into contains (sku, order_no, quantity) VALUES ((select sku from Product where name = 'TV'), (select order_no from \"order\" where date = '2023-01-02'), 14);\n",
    "insert into contains (sku, order_no, quantity) VALUES ((select sku from Product where name = 'TV'), (select order_no from \"order\" where date = '2023-01-03'), 3);\n",
    "\n",
    "insert into Supplier (TIN, name, address) VALUES ('123456789', 'Goncalo', 'Rua da IKEA');\n",
    "insert into Supplier (TIN, name, address) VALUES ('123456788', 'Rafael', 'Rua da LG');\n",
    "insert into Supplier (TIN, name, address) VALUES ('123456787', 'Luana', 'Rua da Samsung');\n",
    "insert into Supplier (TIN, name, address) VALUES ('123456786', 'Ricky', 'Rua da Apple');\n",
    "\n",
    "insert into supply_contract (TIN, sku) VALUES ((select TIN from Supplier where name = 'Goncalo'), (select sku from Product where name = 'Gaming Chair'));\n",
    "insert into supply_contract (TIN, sku) VALUES ((select TIN from Supplier where name = 'Luana'), (select sku from Product where name = 'Cake'));\n",
    "insert into supply_contract (TIN, sku) VALUES ((select TIN from Supplier where name = 'Rafael'), (select sku from Product where name = 'TV'));\n",
    "insert into supply_contract (TIN, sku) VALUES ((select TIN from Supplier where name = 'Ricky'), (select sku from Product where name = 'Table'));\n",
    "\n",
    "insert into delivery (address, TIN) VALUES ((select address from Workplace where address = 'Rua das flores'), (select TIN from Supplier where name = 'Goncalo'));\n",
    "insert into delivery (address, TIN) VALUES ((select address from Workplace where address = 'Rua da Maria'), (select TIN from Supplier where name = 'Luana'));\n",
    "insert into delivery (address, TIN) VALUES ((select address from Workplace where address = 'Rua da Lua'), (select TIN from Supplier where name = 'Rafael'));\n",
    "insert into delivery (address, TIN) VALUES ((select address from Workplace where address = 'Rua do Sol'), (select TIN from Supplier where name = 'Ricky'));\n"
   ]
  },
  {
   "attachments": {},
   "cell_type": "markdown",
   "id": "bb425531-1147-4060-a775-53f06eca7e5e",
   "metadata": {},
   "source": [
    "## 4 Linguagem SQL\n",
    "\n",
    "Apresente a expressão SQL correspondente  a cada uma das interrogações de Álgebra Relacional.\n"
   ]
  },
  {
   "attachments": {},
   "cell_type": "markdown",
   "id": "8b4fcf67-1556-422c-b607-a71732d7d2a4",
   "metadata": {
    "tags": []
   },
   "source": [
    "1. Liste o nome de todos os clientes que fizeram encomendas contendo produtos de preço superior a €50 no ano de 2023;"
   ]
  },
  {
   "cell_type": "code",
   "execution_count": 5,
   "id": "15197f8d-073e-4cb8-861f-be594a6efadd",
   "metadata": {
    "tags": []
   },
   "outputs": [
    {
     "name": "stderr",
     "output_type": "stream",
     "text": [
      "UsageError: Cell magic `%%sql` not found.\n"
     ]
    }
   ],
   "source": [
    "%%sql\n",
    "\n",
    "SELECT DISTINCT\n",
    "  c.name\n",
    "FROM \n",
    "  Customer c\n",
    "INNER JOIN\n",
    "  \"order\" o ON c.cust_no = o.cust_no\n",
    "INNER JOIN\n",
    "  contains cs ON o.order_no = cs.order_no\n",
    "INNER JOIN\n",
    "  Product p ON cs.sku = p.sku\n",
    "WHERE\n",
    "  p.price > 50\n",
    "AND\n",
    "  o.date > '2022-12-31'\n",
    "AND\n",
    "  o.date < '2024-01-01';"
   ]
  },
  {
   "attachments": {},
   "cell_type": "markdown",
   "id": "9b744170-a244-43b3-984f-3654d95c5f4f",
   "metadata": {
    "tags": []
   },
   "source": [
    "2. Liste o nome de todos os empregados que trabalham em armazéns e não em escritórios e processaram encomendas em Janeiro de 2023;"
   ]
  },
  {
   "cell_type": "code",
   "execution_count": 6,
   "id": "4da673da-e257-421f-a84e-ec7cacc74c8d",
   "metadata": {
    "tags": []
   },
   "outputs": [
    {
     "name": "stderr",
     "output_type": "stream",
     "text": [
      "UsageError: Cell magic `%%sql` not found.\n"
     ]
    }
   ],
   "source": [
    "%%sql\n",
    "\n",
    "WITH EJAN2023 AS\n",
    "  (\n",
    "    SELECT DISTINCT\n",
    "      e.name\n",
    "    From\n",
    "      Employee e\n",
    "    INNER JOIN\n",
    "      process p ON e.ssn = p.ssn\n",
    "    INNER JOIN\n",
    "      \"order\" o ON p.order_no = o.order_no\n",
    "    WHERE\n",
    "      o.date > '2022-12-31'\n",
    "    and\n",
    "      o.date < '2023-02-01'\n",
    "  ),\n",
    "\n",
    "EWHA AS \n",
    "  (\n",
    "    SELECT DISTINCT \n",
    "      e.name\n",
    "    FROM \n",
    "      Employee e\n",
    "    WHERE e.ssn IN (\n",
    "      SELECT \n",
    "        w.ssn\n",
    "      FROM \n",
    "        works w\n",
    "      JOIN Warehouse wh ON w.address = wh.address\n",
    "    )\n",
    "    AND e.ssn NOT IN (\n",
    "      SELECT \n",
    "        w.ssn\n",
    "      FROM \n",
    "        works w\n",
    "      JOIN Office o ON w.address = o.address\n",
    "    )\n",
    "  )\n",
    "\n",
    "SELECT DISTINCT\n",
    "  name\n",
    "FROM\n",
    "  EJAN2023\n",
    "INTERSECT\n",
    "  SELECT DISTINCT\n",
    "    name\n",
    "  FROM\n",
    "    EWHA;"
   ]
  },
  {
   "attachments": {},
   "cell_type": "markdown",
   "id": "a3a2597b-7409-4895-b5db-27e405b6f578",
   "metadata": {
    "tags": []
   },
   "source": [
    "3. Indique o nome do produto mais vendido;"
   ]
  },
  {
   "cell_type": "code",
   "execution_count": 2,
   "id": "b2f660cd-895f-473a-b806-b818615022bb",
   "metadata": {
    "tags": []
   },
   "outputs": [
    {
     "name": "stderr",
     "output_type": "stream",
     "text": [
      "UsageError: Cell magic `%%sql` not found.\n"
     ]
    }
   ],
   "source": [
    "%%sql\n",
    "\n",
    "with sold as (\n",
    "  SELECT\n",
    "    *\n",
    "  FROM\n",
    "    contains cs\n",
    "  INNER JOIN\n",
    "    sale s ON cs.order_no = s.order_no\n",
    "),\n",
    "bestseller as (\n",
    "  SELECT\n",
    "    s.sku\n",
    "  FROM\n",
    "    sold s\n",
    "  GROUP BY\n",
    "    s.sku\n",
    "  HAVING \n",
    "    SUM(s.quantity) >= ALL (\n",
    "      SELECT\n",
    "        SUM(s.quantity)\n",
    "      FROM\n",
    "        sold s\n",
    "      GROUP BY\n",
    "        s.sku\n",
    "  )\n",
    ")\n",
    "SELECT DISTINCT\n",
    "  p.name\n",
    "FROM\n",
    "  bestseller bs\n",
    "INNER JOIN\n",
    "  Product p ON bs.sku = p.sku;\n"
   ]
  },
  {
   "attachments": {},
   "cell_type": "markdown",
   "id": "e977128e-13cd-4504-9cb6-5ec1a847e9fd",
   "metadata": {},
   "source": [
    "4. Indique o valor total de cada venda realizada."
   ]
  },
  {
   "cell_type": "code",
   "execution_count": 8,
   "id": "bed65cfe-3a3c-4244-847b-808f84b12e47",
   "metadata": {
    "tags": []
   },
   "outputs": [
    {
     "name": "stderr",
     "output_type": "stream",
     "text": [
      "UsageError: Cell magic `%%sql` not found.\n"
     ]
    }
   ],
   "source": [
    "%%sql\n",
    "\n",
    "SELECT \n",
    "  query.order_no, SUM(query.total)\n",
    "FROM\n",
    "  (\n",
    "    SELECT \n",
    "      s.order_no, ct.quantity*p.price as total\n",
    "    FROM\n",
    "      Product p\n",
    "    INNER JOIN\n",
    "      contains ct ON p.sku = ct.sku\n",
    "    INNER JOIN\n",
    "      sale s ON s.order_no = ct.order_no\n",
    "  ) as query\n",
    "GROUP BY\n",
    "  query.order_no;"
   ]
  },
  {
   "cell_type": "code",
   "execution_count": null,
   "id": "07eaec2e-772c-4f46-a531-a1cde35ae92e",
   "metadata": {},
   "outputs": [],
   "source": []
  }
 ],
 "metadata": {
  "kernelspec": {
   "display_name": "Python 3 (ipykernel)",
   "language": "python",
   "name": "python3"
  },
  "language_info": {
   "codemirror_mode": {
    "name": "ipython",
    "version": 3
   },
   "file_extension": ".py",
   "mimetype": "text/x-python",
   "name": "python",
   "nbconvert_exporter": "python",
   "pygments_lexer": "ipython3",
   "version": "3.11.3"
  }
 },
 "nbformat": 4,
 "nbformat_minor": 5
}
