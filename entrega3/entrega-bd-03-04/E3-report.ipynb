{
 "cells": [
  {
   "attachments": {},
   "cell_type": "markdown",
   "id": "19b43aee-c23f-4ef7-8547-9c309b2dbecb",
   "metadata": {},
   "source": [
    "# Projeto de Bases de Dados - Parte 3\n",
    "\n",
    "### Docente Responsável\n",
    "\n",
    "Prof. André Patrício\n",
    "Prof. Jorge Oliveira\n",
    "\n",
    "### Grupo 4 - BD2L17\n",
    "<dl>\n",
    "    <dt>40 horas (33.3%)</dt>\n",
    "    <dd>ist102447 Guilherme Belchior</dd>\n",
    "    <dt>40 horas (33.3%)</dt>\n",
    "    <dd>ist103095 Daniel Nunes</dd>\n",
    "    <dt>40 horas (33.3%)</dt>\n",
    "    <dd>ist102078 João Costa</dd>\n",
    "<dl>"
   ]
  },
  {
   "cell_type": "code",
   "execution_count": null,
   "id": "a6545a02-adea-4c57-b704-cfa1f6253e4b",
   "metadata": {
    "tags": []
   },
   "outputs": [],
   "source": [
    "%load_ext sql\n",
    "%sql postgresql://db:db@postgres/db\n",
    "\n"
   ]
  },
  {
   "attachments": {},
   "cell_type": "markdown",
   "id": "1c5deb6e-396e-401f-9b09-af4cd09491a9",
   "metadata": {
    "tags": []
   },
   "source": [
    "# Empresa de comércio online"
   ]
  },
  {
   "attachments": {},
   "cell_type": "markdown",
   "id": "76eab1e8-8d6a-41e3-b242-553a7f14ba84",
   "metadata": {
    "tags": []
   },
   "source": [
    "## 0. Carregamento da Base de Dados"
   ]
  },
  {
   "attachments": {},
   "cell_type": "markdown",
   "id": "e047df4e-b18b-4c70-8f7b-378b4201ee01",
   "metadata": {},
   "source": [
    "Carregue o esquema de Base de Dados apresentado no Anexo A."
   ]
  },
  {
   "cell_type": "code",
   "execution_count": null,
   "id": "c718077c-5193-47a0-bb76-8f1f43a713be",
   "metadata": {},
   "outputs": [],
   "source": [
    "%%sql\n",
    "\n",
    "DROP TABLE IF EXISTS customer CASCADE;\n",
    "DROP TABLE IF EXISTS orders CASCADE;\n",
    "DROP TABLE IF EXISTS pay CASCADE;\n",
    "DROP TABLE IF EXISTS employee CASCADE;\n",
    "DROP TABLE IF EXISTS process CASCADE;\n",
    "DROP TABLE IF EXISTS department CASCADE;\n",
    "DROP TABLE IF EXISTS workplace CASCADE;\n",
    "DROP TABLE IF EXISTS works CASCADE;\n",
    "DROP TABLE IF EXISTS office CASCADE;\n",
    "DROP TABLE IF EXISTS warehouse CASCADE;\n",
    "DROP TABLE IF EXISTS product CASCADE;\n",
    "DROP TABLE IF EXISTS contains CASCADE;\n",
    "DROP TABLE IF EXISTS supplier CASCADE;\n",
    "DROP TABLE IF EXISTS delivery CASCADE;\n",
    "\n",
    "/* Change this above */\n",
    "\n",
    "\n",
    "\n",
    "CREATE TABLE customer(\n",
    "  cust_no INTEGER PRIMARY KEY,\n",
    "  name VARCHAR(80) NOT NULL,\n",
    "  email VARCHAR(254) UNIQUE NOT NULL,\n",
    "  phone VARCHAR(15),\n",
    "  address VARCHAR(255)\n",
    ");\n",
    "\n",
    "CREATE TABLE orders(\n",
    "  order_no INTEGER PRIMARY KEY,\n",
    "  cust_no INTEGER NOT NULL REFERENCES customer,\n",
    "  date DATE NOT NULL\n",
    "  --order_no must exist in contains\n",
    ");\n",
    "\n",
    "CREATE TABLE pay(\n",
    "  order_no INTEGER PRIMARY KEY REFERENCES orders,\n",
    "  cust_no INTEGER NOT NULL REFERENCES customer\n",
    ");\n",
    "\n",
    "CREATE TABLE employee(\n",
    "  ssn VARCHAR(20) PRIMARY KEY,\n",
    "  TIN VARCHAR(20) UNIQUE NOT NULL,\n",
    "  bdate DATE,\n",
    "  name VARCHAR NOT NULL\n",
    "  --age must be >=18\n",
    ");\n",
    "\n",
    "CREATE TABLE process(\n",
    "  ssn VARCHAR(20) REFERENCES employee,\n",
    "  order_no INTEGER REFERENCES orders,\n",
    "  PRIMARY KEY (ssn, order_no)\n",
    ");\n",
    "\n",
    "CREATE TABLE department(\n",
    "  name VARCHAR PRIMARY KEY\n",
    ");\n",
    "\n",
    "CREATE TABLE workplace(\n",
    "  address VARCHAR PRIMARY KEY,\n",
    "  lat NUMERIC(8, 6) NOT NULL,\n",
    "  long NUMERIC(9, 6) NOT NULL,\n",
    "  UNIQUE(lat, long)\n",
    "  --address must be in warehouse or office but not both\n",
    ");\n",
    "\n",
    "CREATE TABLE office(\n",
    "  address VARCHAR(255) PRIMARY KEY REFERENCES workplace\n",
    ");\n",
    "\n",
    "CREATE TABLE warehouse(\n",
    "  address VARCHAR(255) PRIMARY KEY REFERENCES workplace\n",
    ");\n",
    "\n",
    "CREATE TABLE works(\n",
    "  ssn VARCHAR(20) REFERENCES employee,\n",
    "  name VARCHAR(200) REFERENCES department,\n",
    "  address VARCHAR(255) REFERENCES workplace,\n",
    "  PRIMARY KEY (ssn, name, address)\n",
    ");\n",
    "\n",
    "CREATE TABLE product(\n",
    "  SKU VARCHAR(25) PRIMARY KEY,\n",
    "  name VARCHAR(200) NOT NULL,\n",
    "  description VARCHAR,\n",
    "  price NUMERIC(10, 2) NOT NULL,\n",
    "  ean NUMERIC(13) UNIQUE\n",
    ");\n",
    "\n",
    "CREATE TABLE contains(\n",
    "  order_no INTEGER REFERENCES orders,\n",
    "  SKU VARCHAR(25) REFERENCES product,\n",
    "  qty INTEGER,\n",
    "  PRIMARY KEY (order_no, SKU)\n",
    ");\n",
    "\n",
    "CREATE TABLE supplier(\n",
    "  TIN VARCHAR(20) PRIMARY KEY,\n",
    "  name VARCHAR(200),\n",
    "  address VARCHAR(255),\n",
    "  SKU VARCHAR(25) REFERENCES product,\n",
    "  date DATE\n",
    ");\n",
    "\n",
    "CREATE TABLE delivery(\n",
    "  address VARCHAR(255) REFERENCES warehouse ,\n",
    "  TIN VARCHAR(20) REFERENCES supplier,\n",
    "  PRIMARY KEY (address, TIN)\n",
    ");"
   ]
  },
  {
   "attachments": {},
   "cell_type": "markdown",
   "id": "25fcb3f3-2ec6-4264-bd74-d07bfd56fa76",
   "metadata": {},
   "source": [
    "Crie as instruções para o seu preenchimento de forma consistente, garantindo que todas as consultas SQL e OLAP, apresentadas mais adiante, produzam um resultado não vazio. "
   ]
  },
  {
   "cell_type": "code",
   "execution_count": null,
   "id": "e33d841c-c21e-4a9a-88b4-00b45b039261",
   "metadata": {
    "tags": []
   },
   "outputs": [],
   "source": [
    "%%sql\n",
    "insert into customer (cust_no, name, email, phone, address) VALUES (-1,'Deleted_User', '', '', '');\n",
    "insert into customer (cust_no, name, email, phone, address) VALUES (1,'Belchior', 'belchiorlindo@gmail.com', '912345678', 'Avenida da Liberdade, 2000-002 Póvoa de Varzim');\n",
    "insert into customer (cust_no, name, email, phone, address) VALUES (2,'Nunes', 'danielnunes@gmail.com', '939393939', 'Travessa dos Pescadores, 3000-003 Coimbra');\n",
    "insert into customer (cust_no, name, email, phone, address) VALUES (3,'Costa', 'joaolscosta@gmail.com', '947854684', 'Rua das Flores, 1000-001 Lisboa');\n",
    "\n",
    "\n",
    "insert into orders (order_no, date, cust_no) VALUES (1,'2017-01-01', (select cust_no from customer where name = 'Belchior'));\n",
    "insert into orders (order_no, date, cust_no) VALUES (2,'2018-01-01', (select cust_no from customer where name = 'Nunes'));\n",
    "insert into orders (order_no, date, cust_no) VALUES (3,'2019-01-01', (select cust_no from customer where name = 'Costa'));\n",
    "insert into orders (order_no, date, cust_no) VALUES (4,'2014-01-01', (select cust_no from customer where name = 'Costa'));\n",
    "insert into orders (order_no, date, cust_no) VALUES (5,'2023-01-02', (select cust_no from customer where name = 'Costa'));\n",
    "insert into orders (order_no, date, cust_no) VALUES (6,'2023-02-02', (select cust_no from customer where name = 'Nunes'));\n",
    "insert into orders (order_no, date, cust_no) VALUES (7,'2023-01-03', (select cust_no from customer where name = 'Nunes'));\n",
    "insert into orders (order_no, date, cust_no) VALUES (8,'2022-01-03', (select cust_no from customer where name = 'Nunes'));\n",
    "insert into orders (order_no, date, cust_no) VALUES (9,'2022-01-04', (select cust_no from customer where name = 'Nunes'));\n",
    "insert into orders (order_no, date, cust_no) VALUES (10,'2022-01-04', (select cust_no from customer where name = 'Nunes'));\n",
    "insert into orders (order_no, date, cust_no) VALUES (11,'2022-03-04', (select cust_no from customer where name = 'Nunes'));\n",
    "insert into orders (order_no, date, cust_no) VALUES (12,'2022-10-04', (select cust_no from customer where name = 'Nunes'));\n",
    "\n",
    "\n",
    "\n",
    "\n",
    "insert into pay (order_no, cust_no) VALUES ((select order_no from orders where date = '2017-01-01'), (select cust_no from customer where name = 'Belchior'));\n",
    "insert into pay (order_no, cust_no) VALUES ((select order_no from orders where date = '2018-01-01'), (select cust_no from customer where name = 'Nunes'));\n",
    "insert into pay (order_no, cust_no) VALUES (8, 2);\n",
    "insert into pay (order_no, cust_no) VALUES (9, 2);\n",
    "\n",
    "insert into employee (ssn, TIN, bdate, name) VALUES ('546654654', '123123123', '2002-04-10', 'Pedrinho');\n",
    "insert into employee (ssn, TIN, bdate, name) VALUES ('546654655', '123123124', '2002-02-14', 'Gui');\n",
    "insert into employee (ssn, TIN, bdate, name) VALUES ('546654656', '123123125', '2002-01-01', 'Luana');\n",
    "\n",
    "insert into process (ssn, order_no) VALUES ((select ssn from employee where name = 'Pedrinho'), (select order_no from orders where date = '2017-01-01'));\n",
    "insert into process (ssn, order_no) VALUES ((select ssn from employee where name = 'Luana'), (select order_no from orders where date = '2023-01-02'));\n",
    "insert into process (ssn, order_no) VALUES ((select ssn from employee where name = 'Gui'), (select order_no from orders where date = '2019-01-01'));\n",
    "insert into process (ssn, order_no) VALUES ((select ssn from employee where name = 'Gui'), (select order_no from orders where date = '2023-01-03'));\n",
    "insert into process (ssn, order_no) VALUES ((select ssn from employee where name = 'Pedrinho'), (select order_no from orders where date = '2014-01-01'));\n",
    "insert into process (ssn, order_no) VALUES ((select ssn from employee where name = 'Gui'), 11);\n",
    "insert into process (ssn, order_no) VALUES ((select ssn from employee where name = 'Gui'), 12);\n",
    "\n",
    "\n",
    "insert into department (name) VALUES ('Marketing');\n",
    "insert into department (name) VALUES ('Production');\n",
    "\n",
    "insert into workplace (address, lat, long) VALUES ('Rua das Flores, 1000-001 Lisboa', '12.000000', '45.000000');\n",
    "insert into workplace (address, lat, long) VALUES ('Rua do Comércio, 4000-004 Porto', '78.000000', '10.000000');\n",
    "insert into workplace (address, lat, long) VALUES ('Praça da República, 5000-005 Vila Real', '78.000000', '13.000000');\n",
    "insert into workplace (address, lat, long) VALUES ('Avenida Central, 6000-006 Castelo Branco', '78.000000', '11.000000');\n",
    "\n",
    "\n",
    "insert into office (address) VALUES ((select address from workplace where address = 'Praça da República, 5000-005 Vila Real'));\n",
    "insert into office (address) VALUES ((select address from workplace where address = 'Avenida Central, 6000-006 Castelo Branco'));\n",
    "\n",
    "insert into warehouse (address) VALUES ((select address from workplace where address = 'Rua das Flores, 1000-001 Lisboa'));\n",
    "insert into warehouse (address) VALUES ((select address from workplace where address = 'Rua do Comércio, 4000-004 Porto'));\n",
    "\n",
    "\n",
    "insert into works (ssn, name, address) VALUES ((select ssn from employee where name = 'Pedrinho'), (select name from department where name = 'Marketing'), (select address from workplace where address = 'Praça da República, 5000-005 Vila Real'));\n",
    "insert into works (ssn, name, address) VALUES ((select ssn from employee where name = 'Luana'), (select name from department where name = 'Marketing'), (select address from workplace where address = 'Rua das Flores, 1000-001 Lisboa'));\n",
    "insert into works (ssn, name, address) VALUES ((select ssn from employee where name = 'Gui'), (select name from department where name = 'Production'), (select address from workplace where address = 'Rua das Flores, 1000-001 Lisboa'));\n",
    "insert into works (ssn, name, address) VALUES ((select ssn from employee where name = 'Gui'), (select name from department where name = 'Production'), (select address from workplace where address = 'Avenida Central, 6000-006 Castelo Branco'));\n",
    "\n",
    "\n",
    "insert into product (SKU, name, description, price, ean) VALUES ('-1', '', '',0, '-1');\n",
    "insert into product (SKU, name, description, price, ean) VALUES ('EI01TS01EI01TS01EI01TS011', 'Gaming Chair', 'Chair made with love and kindness', 5.35, '1234567891234');\n",
    "insert into product (SKU, name, description, price, ean) VALUES ('EI01TS01EI01TS01EI01TS012', 'Cake', 'Cake made by our amazing chef Luana', 10.35, '1234567891235');\n",
    "insert into product (SKU, name, description, price, ean) VALUES ('EI01TS01EI01TS01EI01TS013', 'TV', 'LG TV 4K', 500.35, '1234567891236');\n",
    "insert into product (SKU, name, description, price, ean) VALUES ('EI01TS01EI01TS01EI01TS014', 'Table', 'Table made with paus and cola', 50.35, '1234567891237');\n",
    "\n",
    "\n",
    "\n",
    "insert into contains (SKU, order_no, qty) VALUES ((select SKU from product where name = 'Gaming Chair'), (select order_no from orders where date = '2017-01-01'), 2);\n",
    "insert into contains (SKU, order_no, qty) VALUES ((select SKU from product where name = 'Cake'), (select order_no from orders where date = '2018-01-01'), 10);\n",
    "insert into contains (SKU, order_no, qty) VALUES ((select SKU from product where name = 'TV'), (select order_no from orders where date = '2019-01-01'), 3);\n",
    "insert into contains (SKU, order_no, qty) VALUES ((select SKU from product where name = 'TV'), (select order_no from orders where date = '2023-01-02'), 14);\n",
    "insert into contains (SKU, order_no, qty) VALUES ((select SKU from product where name = 'TV'), (select order_no from orders where date = '2023-01-03'), 3);\n",
    "insert into contains (SKU, order_no, qty) VALUES ((select SKU from product where name = 'TV'), 8, 14);\n",
    "insert into contains (SKU, order_no, qty) VALUES ((select SKU from product where name = 'TV'), 9, 20);\n",
    "insert into contains (SKU, order_no, qty) VALUES ((select SKU from product where name = 'TV'), 10, 2);\n",
    "insert into contains (SKU, order_no, qty) VALUES ((select SKU from product where name = 'TV'), 11, 2);\n",
    "insert into contains (SKU, order_no, qty) VALUES ((select SKU from product where name = 'TV'), 12, 2);\n",
    "insert into contains (SKU, order_no, qty) VALUES ((select SKU from product where name = 'TV'), 4, 14);\n",
    "insert into contains (SKU, order_no, qty) VALUES ((select SKU from product where name = 'TV'), 6, 14);\n",
    "\n",
    "\n",
    "insert into supplier (TIN, name, address, SKU, date) VALUES ('123456789', 'Goncalo', 'Rua das Palmeiras, 7000-007 Évora', (select SKU from product where name = 'Gaming Chair'), '2017-01-01');\n",
    "insert into supplier (TIN, name, address, SKU, date) VALUES ('123456788', 'Rafael', 'Avenida do Mar, 8000-008 Faro', (select SKU from product where name = 'Cake'), '2018-01-01');\n",
    "insert into supplier (TIN, name, address, SKU, date) VALUES ('123456787', 'Luana', 'Travessa das Oliveiras, 9000-009 Funchal', (select SKU from product where name = 'TV'), '2019-01-01');\n",
    "insert into supplier (TIN, name, address, SKU, date) VALUES ('123456786', 'Ricky', 'Rua dos Castanheiros, 1000-010 Guarda', (select SKU from product where name = 'TV'), '2023-01-02');\n",
    "\n",
    "\n",
    "\n",
    "insert into delivery (address, TIN) VALUES ((select address from warehouse where address = 'Rua das Flores, 1000-001 Lisboa'), (select TIN from supplier where name = 'Goncalo'));\n",
    "insert into delivery (address, TIN) VALUES ((select address from warehouse where address = 'Rua do Comércio, 4000-004 Porto'), (select TIN from supplier where name = 'Luana'));\n",
    "insert into delivery (address, TIN) VALUES ((select address from warehouse where address = 'Rua das Flores, 1000-001 Lisboa'), (select TIN from supplier where name = 'Rafael'));\n",
    "insert into delivery (address, TIN) VALUES ((select address from warehouse where address = 'Rua do Comércio, 4000-004 Porto'), (select TIN from supplier where name = 'Ricky'));"
   ]
  },
  {
   "attachments": {},
   "cell_type": "markdown",
   "id": "9772880f-58f0-46c8-9670-737390210bb4",
   "metadata": {
    "tags": []
   },
   "source": [
    "## 1. Restrições de Integridade\n",
    "\n",
    "Apresente o código para implementar as seguintes restrições de integridade, se necessário, com recurso a extensões procedimentais SQL (Stored Procedures e Triggers):"
   ]
  },
  {
   "attachments": {},
   "cell_type": "markdown",
   "id": "a0a92dd6-9093-4f4e-addf-591d83c466b3",
   "metadata": {},
   "source": [
    "(RI-1) Nenhum empregado pode ter menos de 18 anos de idade"
   ]
  },
  {
   "cell_type": "code",
   "execution_count": null,
   "id": "c422052c-0463-46ae-9be1-b6f6ed19d2b9",
   "metadata": {
    "tags": []
   },
   "outputs": [],
   "source": [
    "%%sql\n",
    "CREATE OR REPLACE FUNCTION ValidAge() RETURNS TRIGGER AS\n",
    "$$\n",
    "  BEGIN\n",
    "    IF ((CURRENT_DATE - 6570) < NEW.bdate ) THEN\n",
    "      RAISE EXCEPTION 'Employees must be 18 years old';\n",
    "    END IF;\n",
    "    RETURN NEW;\n",
    "  END\n",
    "$$ LANGUAGE plpgsql;\n",
    "\n",
    "CREATE TRIGGER CheckValidAge\n",
    "BEFORE INSERT OR UPDATE ON employee\n",
    "FOR EACH ROW EXECUTE PROCEDURE ValidAge();"
   ]
  },
  {
   "attachments": {},
   "cell_type": "markdown",
   "id": "e99193b5-fd48-4601-a226-34432074af53",
   "metadata": {},
   "source": [
    "(RI-2) Um 'Workplace' é obrigatoriamente um 'Office' ou 'Warehouse' mas não pode ser ambos"
   ]
  },
  {
   "cell_type": "code",
   "execution_count": null,
   "id": "188ec396-6e55-4fd3-b436-dcafe454f677",
   "metadata": {
    "tags": []
   },
   "outputs": [],
   "source": [
    "%%sql\n",
    "CREATE OR REPLACE FUNCTION CheckValidWorkplace() RETURNS TRIGGER AS\n",
    "$$\n",
    "  BEGIN\n",
    "    IF (NEW.address NOT IN (SELECT address FROM Office) AND\n",
    "        NEW.address NOT IN (SELECT address FROM Warehouse)) \n",
    "      OR\n",
    "       ( NEW.address IN (SELECT address FROM Office) AND\n",
    "         NEW.address IN (SELECT address FROM Warehouse))  \n",
    "      THEN\n",
    "      RAISE EXCEPTION 'Workplace must be either an Office or a Warehouse and not Both!';\n",
    "    END IF;\n",
    "    RETURN NEW;\n",
    "  END\n",
    "$$ LANGUAGE plpgsql;\n",
    "\n",
    "CREATE TRIGGER CheckValidWorkplace\n",
    "BEFORE INSERT OR UPDATE ON Workplace\n",
    "FOR EACH ROW EXECUTE FUNCTION CheckValidWorkplace();\n"
   ]
  },
  {
   "attachments": {},
   "cell_type": "markdown",
   "id": "7e659751-bbd0-475a-b36e-8d40d7d58a54",
   "metadata": {},
   "source": [
    "(RI-3) Uma 'Order' tem de figurar obrigatoriamente em 'Contains'."
   ]
  },
  {
   "cell_type": "code",
   "execution_count": 1,
   "id": "f2993b94-77a8-4b09-b522-f39021c55131",
   "metadata": {
    "tags": []
   },
   "outputs": [
    {
     "name": "stderr",
     "output_type": "stream",
     "text": [
      "UsageError: Cell magic `%%sql` not found.\n"
     ]
    }
   ],
   "source": [
    "%%sql\n",
    "CREATE OR REPLACE FUNCTION CheckValidOrder() RETURNS TRIGGER AS\n",
    "$$\n",
    "  BEGIN\n",
    "    IF (NEW.order_no NOT IN (SELECT order_no FROM contains)) THEN\n",
    "      RAISE EXCEPTION 'Orders must have at least one product!';\n",
    "    END IF;\n",
    "    RETURN NEW;\n",
    "  END\n",
    "$$ LANGUAGE plpgsql;\n",
    "\n",
    "CREATE CONSTRAINT TRIGGER CheckValidOrder\n",
    "AFTER INSERT OR UPDATE ON orders \n",
    "DEFERRABLE \n",
    "INITIALLY DEFERRED\n",
    "FOR EACH ROW EXECUTE PROCEDURE CheckValidOrder();"
   ]
  },
  {
   "attachments": {},
   "cell_type": "markdown",
   "id": "37637f46-470f-431a-9833-4d8665176450",
   "metadata": {
    "tags": []
   },
   "source": [
    "## 2. Consultas SQL"
   ]
  },
  {
   "attachments": {},
   "cell_type": "markdown",
   "id": "f861ee47-e72b-4633-8dac-b4728ed852b9",
   "metadata": {},
   "source": [
    "Apresente a consulta SQL mais sucinta para cada uma das seguintes questões"
   ]
  },
  {
   "attachments": {},
   "cell_type": "markdown",
   "id": "fd2e1654-059e-4ef5-a63d-5e81280baab0",
   "metadata": {},
   "source": [
    "1) Qual o número e nome do(s) cliente(s) com maior valor total de encomendas pagas?  "
   ]
  },
  {
   "cell_type": "code",
   "execution_count": null,
   "id": "5b79ced0-279d-4e04-921e-0c831d7a79f2",
   "metadata": {
    "tags": []
   },
   "outputs": [],
   "source": [
    "%%sql\n",
    "SELECT c.name, c.cust_no\n",
    "FROM customer c\n",
    "JOIN pay p ON c.cust_no = p.cust_no\n",
    "GROUP BY c.cust_no, name HAVING COUNT(*) >= ALL (\n",
    "    SELECT COUNT(*)\n",
    "    FROM customer c\n",
    "    JOIN pay p ON c.cust_no = p.cust_no\n",
    "    GROUP BY c.cust_no, name\n",
    ");"
   ]
  },
  {
   "attachments": {},
   "cell_type": "markdown",
   "id": "4f863499-c40e-428c-85e8-d2741362906d",
   "metadata": {},
   "source": [
    "2. Qual o nome dos empregados que processaram encomendas em todos os dias de 2022 em que houve encomendas?"
   ]
  },
  {
   "cell_type": "code",
   "execution_count": null,
   "id": "aadac5e9-d0e4-46e0-bab5-33d00b863884",
   "metadata": {
    "tags": []
   },
   "outputs": [],
   "source": [
    "%%sql\n",
    "SELECT DISTINCT name\n",
    "FROM Employee e1\n",
    "JOIN process USING (ssn)\n",
    "JOIN pay p1 USING (order_no)\n",
    "JOIN orders o1 USING (order_no)\n",
    "WHERE NOT EXISTS (\n",
    "    SELECT DISTICNT date\n",
    "      FROM orders o2\n",
    "      JOIN pay p2 USING(order_no)\n",
    "      WHERE o1.date = o2.date\n",
    "    EXCEPT\n",
    "    SELECT DISTINCT date\n",
    "      FROM orders\n",
    "      WHERE date < '2023-01-01'\n",
    "      AND date > '2021-12-31'\n",
    ");\n"
   ]
  },
  {
   "attachments": {},
   "cell_type": "markdown",
   "id": "e871bc9e-60c4-465b-a727-9ff2d2115d0b",
   "metadata": {},
   "source": [
    "3. Quantas encomendas foram realizadas mas não pagas em cada mês de 2022?"
   ]
  },
  {
   "cell_type": "code",
   "execution_count": null,
   "id": "3e3e702e-1acb-4004-aa9e-31e4d5916669",
   "metadata": {
    "tags": []
   },
   "outputs": [],
   "source": [
    "%%sql\n",
    "SELECT \n",
    "  EXTRACT(MONTH FROM date) as Month, COUNT(*) as to_pay\n",
    "FROM orders o\n",
    "WHERE o.order_no NOT IN (\n",
    "  SELECT order_no\n",
    "  FROM pay\n",
    ")\n",
    "AND date < '2023-01-01'\n",
    "AND date > '2021-12-31'\n",
    "GROUP BY\n",
    "  EXTRACT(MONTH FROM date)\n",
    ";"
   ]
  },
  {
   "attachments": {},
   "cell_type": "markdown",
   "id": "97f45cec-fe42-418a-b85d-c9e51807a42c",
   "metadata": {},
   "source": [
    "## 3. Vistas"
   ]
  },
  {
   "attachments": {},
   "cell_type": "markdown",
   "id": "03062b56-40fa-41c0-aac9-3e77b9049c27",
   "metadata": {},
   "source": [
    "Crie uma vista que resuma as informações mais importantes sobre as vendas de produtos, combinando informações de diferentes tabelas do esquema de base de dados. A vista deve ter o seguinte esquema:\n",
    "\n",
    "product_sales(sku, order_no, qty, total_price, year, month, day_of_month, day_of_week, city)"
   ]
  },
  {
   "cell_type": "code",
   "execution_count": null,
   "id": "0bbb2226-5de4-4051-b4c0-9130bd4904f5",
   "metadata": {
    "tags": []
   },
   "outputs": [],
   "source": [
    "%%sql\n",
    "-- CREATE VIEW ...\n",
    "CREATE VIEW product_sales AS\n",
    "SELECT \n",
    "  c.SKU, \n",
    "  c.order_no, \n",
    "  c.qty, \n",
    "  c.qty * p.price AS total_price, \n",
    "  EXTRACT(YEAR FROM o.date) AS year,\n",
    "  EXTRACT(MONTH FROM o.date) AS month,\n",
    "  EXTRACT(DAY FROM o.date) AS day_of_month,\n",
    "  EXTRACT(DOW FROM o.date) AS day_of_week,\n",
    "  SUBSTRING(SUBSTRING(cst.address FROM '[0-9]{3} .+') FROM '[[:<:]][A-Z].+') AS city\n",
    "  FROM contains c\n",
    "  JOIN orders o USING (order_no)\n",
    "  JOIN product p USING (SKU)\n",
    "  JOIN customer cst USING (cust_no)\n",
    "  ;\n"
   ]
  },
  {
   "attachments": {},
   "cell_type": "markdown",
   "id": "6b615865-602f-4974-9de1-27d0060362ef",
   "metadata": {
    "tags": []
   },
   "source": [
    "## 4. Desenvolvimento de Aplicação"
   ]
  },
  {
   "attachments": {},
   "cell_type": "markdown",
   "id": "0bad635d-f5c2-449f-97b0-90d10a4d482b",
   "metadata": {},
   "source": [
    "### Explicação da arquitetura da aplicação web, incluindo um link para uma versão de trabalho e as relações entre os vários ficheiros na pasta web/arquivos\n",
    "\n",
    "A app começa com uma página incial (index.html) com um botão que redireciona para a página de login. Na página de login (login_page.html) o utilizador ou entra como manager ou com uma das contas de customer.\n",
    "\n",
    "Na parte da app do customer o utilizador apenas pode criar e pagar as orders correspondentes ao mesmo.(orders_index_private.html, order_payment, add_order.html)\n",
    "\n",
    "Na parte da app do manager temos uma navbar com as opções: Customers, Orders, Products, Suppliers.(navbar.html)\n",
    "Na parte dos customers é possivel visualizar todos os customer, apagar um deles ou criar um novo.(/customer)\n",
    "Na parte das orders é possivel visualizar as orders de cada cliente e ver se foram pagas ou não.(order_customer.html, orders_index.html)\n",
    "Na parte dos products é possivel visualizar todos os produtos e criar novos. Podemos editar ou visualizar todos os detalhes. Também é possivel apagar.(/products)\n",
    "na parte dos suppliers é possivel visualizar todos os supliers e apagar ou criar novos. (/supplier)\n",
    "\n",
    "Além disto implementamos também paginação, verificação de inputs, tentámos assegurar a segurança da app através da implementação de transações.\n",
    "\n",
    "Para customizar a app utilizamos bootstrap."
   ]
  },
  {
   "attachments": {},
   "cell_type": "markdown",
   "id": "5dff0f43-90cc-4ab5-b874-c3fb24776728",
   "metadata": {},
   "source": [
    "## 5. Consultas OLAP"
   ]
  },
  {
   "attachments": {},
   "cell_type": "markdown",
   "id": "5c8c25ed-b858-4daf-a291-b59e489c0a44",
   "metadata": {},
   "source": [
    "Usando a vista desenvolvida para a Questão 3, escreva duas consultas SQL que permitam analisar:"
   ]
  },
  {
   "cell_type": "code",
   "execution_count": null,
   "id": "1f17f2bd",
   "metadata": {},
   "outputs": [],
   "source": [
    "-- Criação de uma tabela auxiliar para guardar todos os dias do ano de 2022\n",
    "%%sql\n",
    "-- SELECT ...\n",
    "CREATE TABLE data AS\n",
    "SELECT \n",
    "  DATE '2022-01-01' + SEQUENCE.DAY AS date\n",
    "FROM \n",
    "  GENERATE_SERIES(0, 365) AS SEQUENCE(DAY);"
   ]
  },
  {
   "attachments": {},
   "cell_type": "markdown",
   "id": "bd8d173c-e72f-4e89-8949-e2df3b7b07a3",
   "metadata": {},
   "source": [
    "1. As quantidade e valores totais de venda de cada produto em 2022, globalmente, por cidade, por mês, dia do mês e dia da semana"
   ]
  },
  {
   "cell_type": "code",
   "execution_count": null,
   "id": "bf12ce01-15c0-4e7c-b329-576dd344ebf6",
   "metadata": {
    "tags": []
   },
   "outputs": [],
   "source": [
    "%%sql\n",
    "SELECT \n",
    "  p.name AS product_name,\n",
    "  ps.city,\n",
    "  EXTRACT(MONTH FROM d.date) AS month,\n",
    "  EXTRACT(DAY FROM d.date) AS day_of_month,\n",
    "  EXTRACT(DOW FROM d.date) AS day_of_week,\n",
    "  SUM(ps.qty) AS total_quantity,\n",
    "  SUM(ps.total_price) AS total_value\n",
    "FROM \n",
    "  product_sales ps\n",
    "JOIN \n",
    "  product p ON ps.SKU = p.SKU\n",
    "RIGHT JOIN \n",
    "  data d ON (ps.year = EXTRACT(YEAR FROM d.date) AND ps.month = EXTRACT(MONTH FROM d.date) AND ps.day_of_month = EXTRACT(DAY FROM d.date))\n",
    "WHERE \n",
    "  EXTRACT(YEAR FROM d.date) = 2022 AND TOTAL_PRICE IS NOT NULL\n",
    "GROUP BY \n",
    "  GROUPING SETS ((p.name, ps.city, EXTRACT(MONTH FROM d.date), EXTRACT(DAY FROM d.date), EXTRACT(DOW FROM d.date)), ())\n",
    "ORDER BY \n",
    "  p.name, ps.city, EXTRACT(MONTH FROM d.date), EXTRACT(DAY FROM d.date), EXTRACT(DOW FROM d.date);"
   ]
  },
  {
   "attachments": {},
   "cell_type": "markdown",
   "id": "a6f88296-429c-4c1c-9a7a-5cbe9cb65920",
   "metadata": {},
   "source": [
    "2. O valor médio diário das vendas de todos os produtos em 2022, globalmente, por mês e dia da semana"
   ]
  },
  {
   "cell_type": "code",
   "execution_count": null,
   "id": "7aac0901-02ad-4a40-964e-dc03430f8e77",
   "metadata": {
    "tags": []
   },
   "outputs": [],
   "source": [
    "%%sql\n",
    "SELECT \n",
    "  EXTRACT(MONTH FROM d.date) AS month,\n",
    "  EXTRACT(DOW FROM d.date) AS day_of_week,\n",
    "  AVG(ps.total_price) AS average_daily_sales\n",
    "FROM \n",
    "  product_sales ps\n",
    "RIGHT JOIN \n",
    "  data d ON (ps.year = EXTRACT(YEAR FROM d.date) AND ps.month = EXTRACT(MONTH FROM d.date) AND ps.day_of_month = EXTRACT(DAY FROM d.date))\n",
    "WHERE \n",
    "  EXTRACT(YEAR FROM d.date) = 2022 AND ps.total_price IS NOT NULL\n",
    "GROUP BY \n",
    "  GROUPING SETS ((EXTRACT(MONTH FROM d.date), EXTRACT(DOW FROM d.date)), ())\n",
    "ORDER BY \n",
    "  EXTRACT(MONTH FROM d.date), EXTRACT(DOW FROM d.date);"
   ]
  },
  {
   "attachments": {},
   "cell_type": "markdown",
   "id": "5a75300b-51d0-4512-8b50-ffac98d66070",
   "metadata": {
    "tags": []
   },
   "source": [
    "## 6. Índices"
   ]
  },
  {
   "attachments": {},
   "cell_type": "markdown",
   "id": "35f160cc-30e9-4381-9b3e-0d78ef421af8",
   "metadata": {
    "tags": []
   },
   "source": [
    "Indique, com a devida justificação, que tipo de índice(s), sobre qual(is) atributo(s) e sobre qual(is) tabela(s) faria sentido criar, de forma a agilizar a execução de cada uma das seguintes consultas: "
   ]
  },
  {
   "attachments": {},
   "cell_type": "markdown",
   "id": "6e6e7eb2-c8ba-4d93-a31b-a2384d538fc0",
   "metadata": {},
   "source": [
    "### 6.1\n",
    "SELECT order_no\n",
    "FROM orders \n",
    "JOIN contains USING (order_no) \n",
    "JOIN product USING (SKU) \n",
    "WHERE price > 50 AND \n",
    "EXTRACT(YEAR FROM date) = 2023"
   ]
  },
  {
   "attachments": {},
   "cell_type": "markdown",
   "id": "b12768c7-efcc-4550-a7c1-7f8bbafd6409",
   "metadata": {},
   "source": [
    "### Tipo de Índice, Atributos & Justificação\n",
    "\n",
    "O mais adequado para agilizar a execução desta consulta seria criar 2 Indices:\n",
    "\n",
    "Um Indice simples na tabela product sobre o atributo price melhoraria o desempenho. Este seria um Índice do tipo B-tree pois neste caso estamos a fazer uma consulta de range e os Indices B-tree são ideais para isso mesmo.\n",
    "\n",
    "O outro Indice simples na tabela orders sobre o atributo date melhoraria o desempenho. Este também seria um Índice do tipo B-tree. Neste caso a consulta não é uma consulta de range mas sim de intervalo (YEAR)  sendo também o indice do tipo B-tree o ideal para isso mesmo.\n",
    "\n",
    "Poderiamos pensar em criar um indice composto na tabela contains com os atributos order_no e SKU para ajudar no JOIN , MAS como (order_no, SKU) é uma chave primária da tabela contains não é necessário criar o indice pois o indice já está associado automaticamente à chave primária assim evitamos a criação de um indice redundante. Portanto ficamo-nos pelo uso dos dois indices referidos acima."
   ]
  },
  {
   "attachments": {},
   "cell_type": "markdown",
   "id": "89f6cb2b-8425-42f8-810c-9c9e5797b686",
   "metadata": {},
   "source": [
    "### 6.2\n",
    "SELECT order_no, SUM(qty*price)\n",
    "FROM contains \n",
    "JOIN product USING (SKU) \n",
    "WHERE name LIKE ‘A%’ \n",
    "GROUP BY order_no;"
   ]
  },
  {
   "attachments": {},
   "cell_type": "markdown",
   "id": "1af12988-e1f5-4a72-835d-9aba30d0ce88",
   "metadata": {},
   "source": [
    "### Tipo de Índice, Atributos & Justificação\n",
    "\n",
    "O mais adequado para agilizar a execução desta consulta seria criar 2 Indices:\n",
    "\n",
    "Um Índice simples na tabela product sobre o atributo name, melhoraria o desempenho.Este seria um Índice do tipo B-tree pois estamos a fazer uma correspondência parcial de strings (LIKE 'A%').\n",
    "\n",
    "Um Índice simples na tabela contains sobre o atributo order_no, melhoraria o desempenho.Este seria um Índice do tipo B-tree que otimizaria o GROUP BY.\n",
    "\n"
   ]
  }
 ],
 "metadata": {
  "kernelspec": {
   "display_name": "Python 3 (ipykernel)",
   "language": "python",
   "name": "python3"
  },
  "language_info": {
   "codemirror_mode": {
    "name": "ipython",
    "version": 3
   },
   "file_extension": ".py",
   "mimetype": "text/x-python",
   "name": "python",
   "nbconvert_exporter": "python",
   "pygments_lexer": "ipython3",
   "version": "3.10.6"
  }
 },
 "nbformat": 4,
 "nbformat_minor": 5
}
